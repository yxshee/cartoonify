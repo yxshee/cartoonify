{
 "cells": [
  {
   "cell_type": "markdown",
   "metadata": {},
   "source": [
    "# Cartoonify Demo\n",
    "\n",
    "This notebook demonstrates how to use the Cartoonify tool to transform regular images into cartoon-style artwork.\n",
    "\n",
    "## Setup\n",
    "First, let's import the necessary modules and set up our environment."
   ]
  },
  {
   "cell_type": "code",
   "execution_count": null,
   "metadata": {},
   "outputs": [],
   "source": [
    "import os\n",
    "import sys\n",
    "import numpy as np\n",
    "import matplotlib.pyplot as plt\n",
    "from PIL import Image\n",
    "\n",
    "# Add the project root directory to Python path\n",
    "module_path = os.path.abspath(os.path.join('..'))\n",
    "if module_path not in sys.path:\n",
    "    sys.path.append(module_path)\n",
    "\n",
    "# Import project modules\n",
    "from src.cartoonify import cartoonify_image\n",
    "from src.utils import plot_comparison\n",
    "\n",
    "# Set up directories\n",
    "sample_dir = os.path.join('..', 'data', 'sample_images')\n",
    "output_dir = os.path.join('..', 'data', 'output')\n",
    "\n",
    "os.makedirs(sample_dir, exist_ok=True)\n",
    "os.makedirs(output_dir, exist_ok=True)"
   ]
  },
  {
   "cell_type": "markdown",
   "metadata": {},
   "source": [
    "## 1. Load a Sample Image\n",
    "\n",
    "Let's start by loading one of the sample images. If no sample images exist, we'll create one."
   ]
  },
  {
   "cell_type": "code",
   "execution_count": null,
   "metadata": {},
   "outputs": [],
   "source": [
    "# Find sample images or create a sample\n",
    "sample_images = [f for f in os.listdir(sample_dir) \n",
    "                if os.path.isfile(os.path.join(sample_dir, f)) and \n",
    "                f.lower().endswith(('.png', '.jpg', '.jpeg'))]\n",
    "\n",
    "# Create a sample if none exists\n",
    "if not sample_images:\n",
    "    print(\"No sample images found. Creating a sample image...\")\n",
    "    \n",
    "    # Create a simple gradient image as a sample\n",
    "    x = np.linspace(0, 1, 512)\n",
    "    y = np.linspace(0, 1, 512)\n",
    "    xx, yy = np.meshgrid(x, y)\n",
    "    \n",
    "    # Create RGB channels\n",
    "    r = xx\n",
    "    g = yy\n",
    "    b = xx * yy\n",
    "    \n",
    "    # Combine channels\n",
    "    img = np.stack([r, g, b], axis=2)\n",
    "    img = (img * 255).astype(np.uint8)\n",
    "    \n",
    "    # Save the sample image\n",
    "    sample_path = os.path.join(sample_dir, 'sample_gradient.jpg')\n",
    "    Image.fromarray(img).save(sample_path)\n",
    "    \n",
    "    sample_images = ['sample_gradient.jpg']\n",
    "    print(f\"Created sample image at {sample_path}\")\n",
    "\n",
    "# Select the first sample image\n",
    "sample_image_path = os.path.join(sample_dir, sample_images[0])\n",
    "print(f\"Using sample image: {sample_image_path}\")\n",
    "\n",
    "# Display the image\n",
    "plt.figure(figsize=(8, 8))\n",
    "plt.imshow(np.array(Image.open(sample_image_path)))\n",
    "plt.title(\"Sample Image\")\n",
    "plt.axis('off')\n",
    "plt.show()"
   ]
  },
  {
   "cell_type": "markdown",
   "metadata": {},
   "source": [
    "## 2. Cartoonify the Image\n",
    "\n",
    "Now, let's transform the image into a cartoon style."
   ]
  },
  {
   "cell_type": "code",
   "execution_count": null,
   "metadata": {},
   "outputs": [],
   "source": [
    "# Define output path\n",
    "output_image_path = os.path.join(output_dir, f\"cartoon_{os.path.basename(sample_image_path)}\")\n",
    "\n",
    "try:\n",
    "    # Apply cartoonification\n",
    "    print(\"Applying cartoonification...\")\n",
    "    cartoonify_image(sample_image_path, output_image_path)\n",
    "    print(f\"Cartoonified image saved to {output_image_path}\")\n",
    "    \n",
    "    # Compare original and cartoonified images\n",
    "    fig = plot_comparison(sample_image_path, output_image_path, figsize=(15, 7))\n",
    "    plt.show()\n",
    "except Exception as e:\n",
    "    print(f\"Error during cartoonification: {e}\")\n",
    "    print(\"\\nNote: If you're seeing a model not found error, you need to train the model first.\")\n",
    "    print(\"Run 'python train.py' from the project root directory to train the model.\")"
   ]
  },
  {
   "cell_type": "markdown",
   "metadata": {},
   "source": [
    "## 3. Process Multiple Images\n",
    "\n",
    "Let's see how we can process multiple images at once."
   ]
  },
  {
   "cell_type": "code",
   "execution_count": null,
   "metadata": {},
   "outputs": [],
   "source": [
    "# This code creates a few more sample images if needed\n",
    "if len(sample_images) < 3:\n",
    "    print(\"Creating additional sample images...\")\n",
    "    \n",
    "    # Create samples with different patterns\n",
    "    for i in range(2):\n",
    "        # Create a different pattern for each sample\n",
    "        x = np.linspace(0, 4*np.pi, 512)\n",
    "        y = np.linspace(0, 4*np.pi, 512)\n",
    "        xx, yy = np.meshgrid(x, y)\n",
    "        \n",
    "        # Different patterns\n",
    "        if i == 0:\n",
    "            # Sine wave pattern\n",
    "            r = 0.5 + 0.5 * np.sin(xx)\n",
    "            g = 0.5 + 0.5 * np.sin(yy)\n",
    "            b = 0.5 + 0.5 * np.sin(xx + yy)\n",
    "        else:\n",
    "            # Radial pattern\n",
    "            center_x, center_y = 2*np.pi, 2*np.pi\n",
    "            dist = np.sqrt((xx - center_x)**2 + (yy - center_y)**2)\n",
    "            r = 0.5 + 0.5 * np.sin(dist)\n",
    "            g = 0.5 + 0.5 * np.cos(dist)\n",
    "            b = 0.5 + 0.5 * np.sin(2 * dist)\n",
    "        \n",
    "        # Combine channels\n",
    "        img = np.stack([r, g, b], axis=2)\n",
    "        img = (img * 255).astype(np.uint8)\n",
    "        \n",
    "        # Save the sample image\n",
    "        sample_path = os.path.join(sample_dir, f'sample_pattern_{i+1}.jpg')\n",
    "        Image.fromarray(img).save(sample_path)\n",
    "        sample_images.append(f'sample_pattern_{i+1}.jpg')\n",
    "        print(f\"Created sample image at {sample_path}\")\n",
    "\n",
    "# Get all sample images\n",
    "sample_images = [f for f in os.listdir(sample_dir) \n",
    "                if os.path.isfile(os.path.join(sample_dir, f)) and \n",
    "                f.lower().endswith(('.png', '.jpg', '.jpeg'))]\n",
    "\n",
    "# Process each sample image\n",
    "for img_file in sample_images[:3]:  # Process up to 3 images\n",
    "    input_path = os.path.join(sample_dir, img_file)\n",
    "    output_path = os.path.join(output_dir, f\"cartoon_{img_file}\")\n",
    "    \n",
    "    try:\n",
    "        print(f\"Processing {img_file}...\")\n",
    "        cartoonify_image(input_path, output_path)\n",
    "        print(f\"Cartoonified {img_file} saved to {output_path}\")\n",
    "        \n",
    "        # Show comparison\n",
    "        fig = plot_comparison(input_path, output_path, figsize=(12, 6))\n",
    "        plt.show()\n",
    "    except Exception as e:\n",
    "        print(f\"Error processing {img_file}: {e}\")"
   ]
  },
  {
   "cell_type": "markdown",
   "metadata": {},
   "source": [
    "## Conclusion\n",
    "\n",
    "This demo demonstrates the basic functionality of the Cartoonify tool. You can:\n",
    "\n",
    "1. Process individual images\n",
    "2. Process multiple images\n",
    "3. Compare original and cartoonified versions\n",
    "\n",
    "For more advanced options and customization, please check the detailed documentation in the `docs/usage.md` file."
   ]
  }
 ],
 "metadata": {
  "language_info": {
   "name": "python"
  }
 },
 "nbformat": 4,
 "nbformat_minor": 2
}
